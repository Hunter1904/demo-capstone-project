{
 "cells": [
  {
   "cell_type": "code",
   "execution_count": null,
   "id": "34b272cd-d8c3-4ea2-b7b0-145146f969ad",
   "metadata": {},
   "outputs": [],
   "source": [
    "import  numpy as np"
   ]
  },
  {
   "cell_type": "code",
   "execution_count": null,
   "id": "5907b4f7-d7f4-4b77-b56c-20f559a005d6",
   "metadata": {},
   "outputs": [],
   "source": [
    "print(\"Hello Python\")"
   ]
  },
  {
   "cell_type": "code",
   "execution_count": null,
   "id": "1b783211-99d4-42d0-b839-8cdf164ff545",
   "metadata": {},
   "outputs": [],
   "source": [
    "print(\"My name is Arth Patel\")"
   ]
  },
  {
   "cell_type": "code",
   "execution_count": null,
   "id": "201f1d37-d37d-4523-8cdb-10e81fdc75b7",
   "metadata": {},
   "outputs": [],
   "source": []
  }
 ],
 "metadata": {
  "kernelspec": {
   "display_name": "Python [conda env:base] *",
   "language": "python",
   "name": "conda-base-py"
  },
  "language_info": {
   "codemirror_mode": {
    "name": "ipython",
    "version": 3
   },
   "file_extension": ".py",
   "mimetype": "text/x-python",
   "name": "python",
   "nbconvert_exporter": "python",
   "pygments_lexer": "ipython3",
   "version": "3.12.7"
  }
 },
 "nbformat": 4,
 "nbformat_minor": 5
}
